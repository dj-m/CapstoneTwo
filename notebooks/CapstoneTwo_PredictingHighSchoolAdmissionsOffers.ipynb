{
 "cells": [
  {
   "cell_type": "markdown",
   "metadata": {},
   "source": [
    "# Capstone Two #\n",
    "\n",
    "## Predicting Test Performance for Specialised High School Admissions ##\n",
    "\n",
    "Performance on the Specialized High School Admissions Test (SHSAT) determines eligibility to one of the eight specialized high schools in New York City. It is administered by the New York City Department of Education (DOE) to about a third of the city’s 8th graders, with 5,000 receiving admissions offers. Of major concern is the racial & ethnic breakdown of admitted students, showing significant underrepresentation from black and latinx students. \n",
    "\n",
    "The goal of this analysis is to elicit which factors predict performance on the SHSAT. These factors will serve as beacons to direct or draw services, whether education-based or otherwise, towards improving the percentage of black and latinx students admitted to the specialized high schools. \n",
    "\n",
    "This approach aims to quantify which variables lead to admissions offers beyond prior proxies: English Language Learners, Students with Disabilities, Students on Free/Reduced Lunch, and Students with Temporary Housing."
   ]
  },
  {
   "cell_type": "code",
   "execution_count": 3,
   "metadata": {},
   "outputs": [],
   "source": [
    "#load python packages\n",
    "import os\n",
    "import pandas as pd\n",
    "import datetime\n",
    "import seaborn as sns\n",
    "import matplotlib.pyplot as plt\n",
    "import numpy as np\n",
    "import urllib.request\n",
    "%matplotlib inline"
   ]
  },
  {
   "cell_type": "markdown",
   "metadata": {},
   "source": [
    "### Data Collection & Loading Data Sets ###\n",
    "\n",
    "Two main data sets will be used:\n",
    "\n",
    "*2016 School Explorer*  \n",
    "This dataset consists of 1272 schools in New York city, and 161 variables, provided via kaggle. Primarily, it’s school descriptors, e.g. grades, race & ethnicity student percentages, high/low performing percentages of students. Data is available as a single csv file.\n",
    "\n",
    "*2017-2018 SHSAT Admissions Test Offers By Sending School*  \n",
    "This dataset consists of the 2017 SHSAT results, published by NYC in 2018. All test takers are north of 28,000, grade 8 students, Test takers and offers received are grouped by school. Data is available as a single csv file from the NYC Open Data portal."
   ]
  },
  {
   "cell_type": "code",
   "execution_count": 8,
   "metadata": {},
   "outputs": [],
   "source": [
    "#downloading the 2016 School Explorer data set to raw folder\n",
    "url = 'https://storage.googleapis.com/kagglesdsdata/datasets%2F33225%2F44131%2F2016%20School%20Explorer.csv?GoogleAccessId=gcp-kaggle-com@kaggle-161607.iam.gserviceaccount.com&Expires=1595273466&Signature=fk6%2BI64ZSKXeenOP24Hsst9gNp2z3gFDGnz1rSXzcrnS874EFfR1VjUPVu0mCoN0bwXxJ7udjKpGlD51QLqiolRTpt9t%2F6ko672nNzd2KU0zJd4xRN8yW4Ouk1XxbCCTN2u6In241T1%2BY1RMpSp5rQgko83zQtwPClQPsl%2BWynlztsHV1aWF2K1J6MUy1SBaXyHvTSXBiMp1G2FvCoVjRVyjkXwV94Xgayi8Zgs3ISjyVUZn3yYzuyarl8NUwSnryWnfCE1debgt5z9AP5aTv7IbUA297hpYAhHZR0NjtKMwoadxypbWbBZ6cUTgI8KT4L4q8LdCgJ6SDJolkJERaQ%3D%3D'\n",
    "file_explorer = '../data/raw/2016_School_Explorer.csv'\n",
    "urllib.request.urlretrieve(url, file_explorer)\n",
    "\n",
    "#downloading the 2017-2018 SHSAT data set to raw folder\n",
    "url = 'https://data.cityofnewyork.us/resource/vsgi-eeb5.csv'\n",
    "file_offers = '../data/raw/2017-2018_SHSAT_Admissions_Test_Offers_By_Sending_School.csv'\n",
    "urllib.request.urlretrieve(url, file_offers)"
   ]
  },
  {
   "cell_type": "code",
   "execution_count": 9,
   "metadata": {},
   "outputs": [],
   "source": [
    "#loading data sets\n",
    "df_explorer = pd.read_csv(file_explorer)\n",
    "df_offers = pd.read_csv(file_offers)"
   ]
  },
  {
   "cell_type": "code",
   "execution_count": 10,
   "metadata": {},
   "outputs": [
    {
     "data": {
      "text/plain": [
       "Index(['Adjusted Grade', 'New?', 'Other Location Code in LCGMS', 'School Name',\n",
       "       'SED Code', 'Location Code', 'District', 'Latitude', 'Longitude',\n",
       "       'Address (Full)',\n",
       "       ...\n",
       "       'Grade 8 Math - All Students Tested', 'Grade 8 Math 4s - All Students',\n",
       "       'Grade 8 Math 4s - American Indian or Alaska Native',\n",
       "       'Grade 8 Math 4s - Black or African American',\n",
       "       'Grade 8 Math 4s - Hispanic or Latino',\n",
       "       'Grade 8 Math 4s - Asian or Pacific Islander',\n",
       "       'Grade 8 Math 4s - White', 'Grade 8 Math 4s - Multiracial',\n",
       "       'Grade 8 Math 4s - Limited English Proficient',\n",
       "       'Grade 8 Math 4s - Economically Disadvantaged'],\n",
       "      dtype='object', length=161)"
      ]
     },
     "execution_count": 10,
     "metadata": {},
     "output_type": "execute_result"
    }
   ],
   "source": [
    "df_explorer.columns"
   ]
  },
  {
   "cell_type": "code",
   "execution_count": 11,
   "metadata": {},
   "outputs": [
    {
     "data": {
      "text/plain": [
       "Index(['feeder_school_dbn', 'feeder_school_name',\n",
       "       'count_of_students_in_hs_admissions', 'count_of_testers',\n",
       "       'count_of_offers'],\n",
       "      dtype='object')"
      ]
     },
     "execution_count": 11,
     "metadata": {},
     "output_type": "execute_result"
    }
   ],
   "source": [
    "df_offers.columns"
   ]
  },
  {
   "cell_type": "code",
   "execution_count": null,
   "metadata": {},
   "outputs": [],
   "source": []
  }
 ],
 "metadata": {
  "kernelspec": {
   "display_name": "Python 3",
   "language": "python",
   "name": "python3"
  },
  "language_info": {
   "codemirror_mode": {
    "name": "ipython",
    "version": 3
   },
   "file_extension": ".py",
   "mimetype": "text/x-python",
   "name": "python",
   "nbconvert_exporter": "python",
   "pygments_lexer": "ipython3",
   "version": "3.8.4"
  }
 },
 "nbformat": 4,
 "nbformat_minor": 4
}
