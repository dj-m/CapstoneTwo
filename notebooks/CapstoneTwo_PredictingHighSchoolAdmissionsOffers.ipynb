{
 "cells": [
  {
   "cell_type": "markdown",
   "metadata": {},
   "source": [
    "# Capstone Two #\n",
    "\n",
    "## Predicting Test Performance for Specialised High School Admissions ##\n",
    "\n",
    "Performance on the Specialized High School Admissions Test (SHSAT) determines eligibility to one of the eight specialized high schools in New York City. It is administered by the New York City Department of Education (DOE) to about a third of the city’s 8th graders, with 5,000 receiving admissions offers. Of major concern is the racial & ethnic breakdown of admitted students, showing significant underrepresentation from black and latinx students. \n",
    "\n",
    "The goal of this analysis is to elicit which factors predict performance on the SHSAT. These factors will serve as beacons to direct or draw services, whether education-based or otherwise, towards improving the percentage of black and latinx students admitted to the specialized high schools. \n",
    "\n",
    "This approach aims to quantify which variables lead to admissions offers beyond prior proxies: English Language Learners, Students with Disabilities, Students on Free/Reduced Lunch, and Students with Temporary Housing."
   ]
  },
  {
   "cell_type": "code",
   "execution_count": 134,
   "metadata": {},
   "outputs": [],
   "source": [
    "#load python packages\n",
    "import os\n",
    "import pandas as pd\n",
    "import datetime\n",
    "import seaborn as sns\n",
    "import matplotlib.pyplot as plt\n",
    "import numpy as np\n",
    "from pandas_profiling import ProfileReport\n",
    "import urllib.request\n",
    "%matplotlib inline"
   ]
  },
  {
   "cell_type": "markdown",
   "metadata": {},
   "source": [
    "### Data Collection & Loading Data Sets ###\n",
    "\n",
    "Two main data sets will be used:\n",
    "\n",
    "*2016 School Explorer*  \n",
    "This dataset consists of 1272 schools in New York city, and 161 variables, provided via kaggle. Primarily, it’s school descriptors, e.g. grades, race & ethnicity student percentages, high/low performing percentages of students. Data is available as a single csv file.\n",
    "\n",
    "*2017-2018 SHSAT Admissions Test Offers By Sending School*  \n",
    "This dataset consists of the 2017 SHSAT results, published by NYC in 2018. All test takers are north of 28,000, grade 8 students, Test takers and offers received are grouped by school. Data is available as a single csv file from the NYC Open Data portal."
   ]
  },
  {
   "cell_type": "code",
   "execution_count": 2,
   "metadata": {},
   "outputs": [],
   "source": [
    "#downloading the 2016 School Explorer data set to raw folder\n",
    "url = 'https://storage.googleapis.com/kagglesdsdata/datasets%2F33225%2F44131%2F2016%20School%20Explorer.csv?GoogleAccessId=gcp-kaggle-com@kaggle-161607.iam.gserviceaccount.com&Expires=1595273466&Signature=fk6%2BI64ZSKXeenOP24Hsst9gNp2z3gFDGnz1rSXzcrnS874EFfR1VjUPVu0mCoN0bwXxJ7udjKpGlD51QLqiolRTpt9t%2F6ko672nNzd2KU0zJd4xRN8yW4Ouk1XxbCCTN2u6In241T1%2BY1RMpSp5rQgko83zQtwPClQPsl%2BWynlztsHV1aWF2K1J6MUy1SBaXyHvTSXBiMp1G2FvCoVjRVyjkXwV94Xgayi8Zgs3ISjyVUZn3yYzuyarl8NUwSnryWnfCE1debgt5z9AP5aTv7IbUA297hpYAhHZR0NjtKMwoadxypbWbBZ6cUTgI8KT4L4q8LdCgJ6SDJolkJERaQ%3D%3D'\n",
    "file_explorer = '../data/raw/2016_School_Explorer.csv'\n",
    "urllib.request.urlretrieve(url, file_explorer)\n",
    "\n",
    "#downloading the 2017-2018 SHSAT data set to raw folder\n",
    "url = 'https://data.cityofnewyork.us/resource/vsgi-eeb5.csv'\n",
    "file_offers = '../data/raw/2017-2018_SHSAT_Admissions_Test_Offers_By_Sending_School.csv'\n",
    "urllib.request.urlretrieve(url, file_offers)"
   ]
  },
  {
   "cell_type": "code",
   "execution_count": 3,
   "metadata": {},
   "outputs": [],
   "source": [
    "#loading data sets\n",
    "df_explorer = pd.read_csv(file_explorer)\n",
    "df_offers = pd.read_csv(file_offers)"
   ]
  },
  {
   "cell_type": "code",
   "execution_count": 4,
   "metadata": {},
   "outputs": [
    {
     "data": {
      "text/html": [
       "<div>\n",
       "<style scoped>\n",
       "    .dataframe tbody tr th:only-of-type {\n",
       "        vertical-align: middle;\n",
       "    }\n",
       "\n",
       "    .dataframe tbody tr th {\n",
       "        vertical-align: top;\n",
       "    }\n",
       "\n",
       "    .dataframe thead th {\n",
       "        text-align: right;\n",
       "    }\n",
       "</style>\n",
       "<table border=\"1\" class=\"dataframe\">\n",
       "  <thead>\n",
       "    <tr style=\"text-align: right;\">\n",
       "      <th></th>\n",
       "      <th>Adjusted Grade</th>\n",
       "      <th>New?</th>\n",
       "      <th>Other Location Code in LCGMS</th>\n",
       "      <th>School Name</th>\n",
       "      <th>SED Code</th>\n",
       "      <th>Location Code</th>\n",
       "      <th>District</th>\n",
       "      <th>Latitude</th>\n",
       "      <th>Longitude</th>\n",
       "      <th>Address (Full)</th>\n",
       "      <th>...</th>\n",
       "      <th>Grade 8 Math - All Students Tested</th>\n",
       "      <th>Grade 8 Math 4s - All Students</th>\n",
       "      <th>Grade 8 Math 4s - American Indian or Alaska Native</th>\n",
       "      <th>Grade 8 Math 4s - Black or African American</th>\n",
       "      <th>Grade 8 Math 4s - Hispanic or Latino</th>\n",
       "      <th>Grade 8 Math 4s - Asian or Pacific Islander</th>\n",
       "      <th>Grade 8 Math 4s - White</th>\n",
       "      <th>Grade 8 Math 4s - Multiracial</th>\n",
       "      <th>Grade 8 Math 4s - Limited English Proficient</th>\n",
       "      <th>Grade 8 Math 4s - Economically Disadvantaged</th>\n",
       "    </tr>\n",
       "  </thead>\n",
       "  <tbody>\n",
       "    <tr>\n",
       "      <th>0</th>\n",
       "      <td>NaN</td>\n",
       "      <td>NaN</td>\n",
       "      <td>NaN</td>\n",
       "      <td>P.S. 015 ROBERTO CLEMENTE</td>\n",
       "      <td>310100010015</td>\n",
       "      <td>01M015</td>\n",
       "      <td>1</td>\n",
       "      <td>40.721834</td>\n",
       "      <td>-73.978766</td>\n",
       "      <td>333 E 4TH ST NEW YORK, NY 10009</td>\n",
       "      <td>...</td>\n",
       "      <td>0</td>\n",
       "      <td>0</td>\n",
       "      <td>0</td>\n",
       "      <td>0</td>\n",
       "      <td>0</td>\n",
       "      <td>0</td>\n",
       "      <td>0</td>\n",
       "      <td>0</td>\n",
       "      <td>0</td>\n",
       "      <td>0</td>\n",
       "    </tr>\n",
       "    <tr>\n",
       "      <th>1</th>\n",
       "      <td>NaN</td>\n",
       "      <td>NaN</td>\n",
       "      <td>NaN</td>\n",
       "      <td>P.S. 019 ASHER LEVY</td>\n",
       "      <td>310100010019</td>\n",
       "      <td>01M019</td>\n",
       "      <td>1</td>\n",
       "      <td>40.729892</td>\n",
       "      <td>-73.984231</td>\n",
       "      <td>185 1ST AVE NEW YORK, NY 10003</td>\n",
       "      <td>...</td>\n",
       "      <td>0</td>\n",
       "      <td>0</td>\n",
       "      <td>0</td>\n",
       "      <td>0</td>\n",
       "      <td>0</td>\n",
       "      <td>0</td>\n",
       "      <td>0</td>\n",
       "      <td>0</td>\n",
       "      <td>0</td>\n",
       "      <td>0</td>\n",
       "    </tr>\n",
       "    <tr>\n",
       "      <th>2</th>\n",
       "      <td>NaN</td>\n",
       "      <td>NaN</td>\n",
       "      <td>NaN</td>\n",
       "      <td>P.S. 020 ANNA SILVER</td>\n",
       "      <td>310100010020</td>\n",
       "      <td>01M020</td>\n",
       "      <td>1</td>\n",
       "      <td>40.721274</td>\n",
       "      <td>-73.986315</td>\n",
       "      <td>166 ESSEX ST NEW YORK, NY 10002</td>\n",
       "      <td>...</td>\n",
       "      <td>0</td>\n",
       "      <td>0</td>\n",
       "      <td>0</td>\n",
       "      <td>0</td>\n",
       "      <td>0</td>\n",
       "      <td>0</td>\n",
       "      <td>0</td>\n",
       "      <td>0</td>\n",
       "      <td>0</td>\n",
       "      <td>0</td>\n",
       "    </tr>\n",
       "  </tbody>\n",
       "</table>\n",
       "<p>3 rows × 161 columns</p>\n",
       "</div>"
      ],
      "text/plain": [
       "  Adjusted Grade New? Other Location Code in LCGMS                School Name  \\\n",
       "0            NaN  NaN                          NaN  P.S. 015 ROBERTO CLEMENTE   \n",
       "1            NaN  NaN                          NaN        P.S. 019 ASHER LEVY   \n",
       "2            NaN  NaN                          NaN       P.S. 020 ANNA SILVER   \n",
       "\n",
       "       SED Code Location Code  District   Latitude  Longitude  \\\n",
       "0  310100010015        01M015         1  40.721834 -73.978766   \n",
       "1  310100010019        01M019         1  40.729892 -73.984231   \n",
       "2  310100010020        01M020         1  40.721274 -73.986315   \n",
       "\n",
       "                    Address (Full)  ... Grade 8 Math - All Students Tested  \\\n",
       "0  333 E 4TH ST NEW YORK, NY 10009  ...                                  0   \n",
       "1   185 1ST AVE NEW YORK, NY 10003  ...                                  0   \n",
       "2  166 ESSEX ST NEW YORK, NY 10002  ...                                  0   \n",
       "\n",
       "   Grade 8 Math 4s - All Students  \\\n",
       "0                               0   \n",
       "1                               0   \n",
       "2                               0   \n",
       "\n",
       "  Grade 8 Math 4s - American Indian or Alaska Native  \\\n",
       "0                                                  0   \n",
       "1                                                  0   \n",
       "2                                                  0   \n",
       "\n",
       "  Grade 8 Math 4s - Black or African American  \\\n",
       "0                                           0   \n",
       "1                                           0   \n",
       "2                                           0   \n",
       "\n",
       "  Grade 8 Math 4s - Hispanic or Latino  \\\n",
       "0                                    0   \n",
       "1                                    0   \n",
       "2                                    0   \n",
       "\n",
       "  Grade 8 Math 4s - Asian or Pacific Islander  Grade 8 Math 4s - White  \\\n",
       "0                                           0                        0   \n",
       "1                                           0                        0   \n",
       "2                                           0                        0   \n",
       "\n",
       "  Grade 8 Math 4s - Multiracial Grade 8 Math 4s - Limited English Proficient  \\\n",
       "0                             0                                            0   \n",
       "1                             0                                            0   \n",
       "2                             0                                            0   \n",
       "\n",
       "  Grade 8 Math 4s - Economically Disadvantaged  \n",
       "0                                            0  \n",
       "1                                            0  \n",
       "2                                            0  \n",
       "\n",
       "[3 rows x 161 columns]"
      ]
     },
     "execution_count": 4,
     "metadata": {},
     "output_type": "execute_result"
    }
   ],
   "source": [
    "df_explorer.head(3)"
   ]
  },
  {
   "cell_type": "code",
   "execution_count": 6,
   "metadata": {},
   "outputs": [
    {
     "data": {
      "text/html": [
       "<div>\n",
       "<style scoped>\n",
       "    .dataframe tbody tr th:only-of-type {\n",
       "        vertical-align: middle;\n",
       "    }\n",
       "\n",
       "    .dataframe tbody tr th {\n",
       "        vertical-align: top;\n",
       "    }\n",
       "\n",
       "    .dataframe thead th {\n",
       "        text-align: right;\n",
       "    }\n",
       "</style>\n",
       "<table border=\"1\" class=\"dataframe\">\n",
       "  <thead>\n",
       "    <tr style=\"text-align: right;\">\n",
       "      <th></th>\n",
       "      <th>feeder_school_dbn</th>\n",
       "      <th>feeder_school_name</th>\n",
       "      <th>count_of_students_in_hs_admissions</th>\n",
       "      <th>count_of_testers</th>\n",
       "      <th>count_of_offers</th>\n",
       "    </tr>\n",
       "  </thead>\n",
       "  <tbody>\n",
       "    <tr>\n",
       "      <th>0</th>\n",
       "      <td>01M034</td>\n",
       "      <td>P.S. 034 FRANKLIN D. ROOSEVELT</td>\n",
       "      <td>58.0</td>\n",
       "      <td>6</td>\n",
       "      <td>0-5</td>\n",
       "    </tr>\n",
       "    <tr>\n",
       "      <th>1</th>\n",
       "      <td>01M140</td>\n",
       "      <td>P.S. 140 NATHAN STRAUS</td>\n",
       "      <td>67.0</td>\n",
       "      <td>6</td>\n",
       "      <td>0-5</td>\n",
       "    </tr>\n",
       "    <tr>\n",
       "      <th>2</th>\n",
       "      <td>01M184</td>\n",
       "      <td>P.S. 184M SHUANG WEN</td>\n",
       "      <td>88.0</td>\n",
       "      <td>67</td>\n",
       "      <td>23</td>\n",
       "    </tr>\n",
       "    <tr>\n",
       "      <th>3</th>\n",
       "      <td>01M188</td>\n",
       "      <td>P.S. 188 THE ISLAND SCHOOL</td>\n",
       "      <td>59.0</td>\n",
       "      <td>0-5</td>\n",
       "      <td>0-5</td>\n",
       "    </tr>\n",
       "    <tr>\n",
       "      <th>4</th>\n",
       "      <td>01M301</td>\n",
       "      <td>TECHNOLOGY, ARTS, AND SCIENCES STUDIO</td>\n",
       "      <td>51.0</td>\n",
       "      <td>11</td>\n",
       "      <td>0-5</td>\n",
       "    </tr>\n",
       "  </tbody>\n",
       "</table>\n",
       "</div>"
      ],
      "text/plain": [
       "  feeder_school_dbn                     feeder_school_name  \\\n",
       "0            01M034         P.S. 034 FRANKLIN D. ROOSEVELT   \n",
       "1            01M140                 P.S. 140 NATHAN STRAUS   \n",
       "2            01M184                   P.S. 184M SHUANG WEN   \n",
       "3            01M188             P.S. 188 THE ISLAND SCHOOL   \n",
       "4            01M301  TECHNOLOGY, ARTS, AND SCIENCES STUDIO   \n",
       "\n",
       "   count_of_students_in_hs_admissions count_of_testers count_of_offers  \n",
       "0                                58.0                6             0-5  \n",
       "1                                67.0                6             0-5  \n",
       "2                                88.0               67              23  \n",
       "3                                59.0              0-5             0-5  \n",
       "4                                51.0               11             0-5  "
      ]
     },
     "execution_count": 6,
     "metadata": {},
     "output_type": "execute_result"
    }
   ],
   "source": [
    "df_offers.head()"
   ]
  },
  {
   "cell_type": "markdown",
   "metadata": {},
   "source": [
    "### Data Definitions ###\n",
    "\n",
    "Generally exploring both datasets to understand what's in them."
   ]
  },
  {
   "cell_type": "code",
   "execution_count": 7,
   "metadata": {},
   "outputs": [
    {
     "data": {
      "text/plain": [
       "Index(['Adjusted Grade', 'New?', 'Other Location Code in LCGMS', 'School Name',\n",
       "       'SED Code', 'Location Code', 'District', 'Latitude', 'Longitude',\n",
       "       'Address (Full)',\n",
       "       ...\n",
       "       'Grade 8 Math - All Students Tested', 'Grade 8 Math 4s - All Students',\n",
       "       'Grade 8 Math 4s - American Indian or Alaska Native',\n",
       "       'Grade 8 Math 4s - Black or African American',\n",
       "       'Grade 8 Math 4s - Hispanic or Latino',\n",
       "       'Grade 8 Math 4s - Asian or Pacific Islander',\n",
       "       'Grade 8 Math 4s - White', 'Grade 8 Math 4s - Multiracial',\n",
       "       'Grade 8 Math 4s - Limited English Proficient',\n",
       "       'Grade 8 Math 4s - Economically Disadvantaged'],\n",
       "      dtype='object', length=161)"
      ]
     },
     "execution_count": 7,
     "metadata": {},
     "output_type": "execute_result"
    }
   ],
   "source": [
    "df_explorer.columns"
   ]
  },
  {
   "cell_type": "code",
   "execution_count": 8,
   "metadata": {},
   "outputs": [
    {
     "data": {
      "text/plain": [
       "(1272, 161)"
      ]
     },
     "execution_count": 8,
     "metadata": {},
     "output_type": "execute_result"
    }
   ],
   "source": [
    "df_explorer.shape"
   ]
  },
  {
   "cell_type": "code",
   "execution_count": 9,
   "metadata": {},
   "outputs": [
    {
     "data": {
      "text/html": [
       "<div>\n",
       "<style scoped>\n",
       "    .dataframe tbody tr th:only-of-type {\n",
       "        vertical-align: middle;\n",
       "    }\n",
       "\n",
       "    .dataframe tbody tr th {\n",
       "        vertical-align: top;\n",
       "    }\n",
       "\n",
       "    .dataframe thead th {\n",
       "        text-align: right;\n",
       "    }\n",
       "</style>\n",
       "<table border=\"1\" class=\"dataframe\">\n",
       "  <thead>\n",
       "    <tr style=\"text-align: right;\">\n",
       "      <th></th>\n",
       "      <th>count</th>\n",
       "      <th>mean</th>\n",
       "      <th>std</th>\n",
       "      <th>min</th>\n",
       "      <th>25%</th>\n",
       "      <th>50%</th>\n",
       "      <th>75%</th>\n",
       "      <th>max</th>\n",
       "    </tr>\n",
       "  </thead>\n",
       "  <tbody>\n",
       "    <tr>\n",
       "      <th>SED Code</th>\n",
       "      <td>1272.0</td>\n",
       "      <td>3.286698e+11</td>\n",
       "      <td>1.222022e+10</td>\n",
       "      <td>3.075000e+11</td>\n",
       "      <td>3.208752e+11</td>\n",
       "      <td>3.315004e+11</td>\n",
       "      <td>3.424000e+11</td>\n",
       "      <td>3.531009e+11</td>\n",
       "    </tr>\n",
       "    <tr>\n",
       "      <th>District</th>\n",
       "      <td>1272.0</td>\n",
       "      <td>1.613522e+01</td>\n",
       "      <td>9.245270e+00</td>\n",
       "      <td>1.000000e+00</td>\n",
       "      <td>9.000000e+00</td>\n",
       "      <td>1.500000e+01</td>\n",
       "      <td>2.400000e+01</td>\n",
       "      <td>3.200000e+01</td>\n",
       "    </tr>\n",
       "    <tr>\n",
       "      <th>Latitude</th>\n",
       "      <td>1272.0</td>\n",
       "      <td>4.073454e+01</td>\n",
       "      <td>8.660234e-02</td>\n",
       "      <td>4.050780e+01</td>\n",
       "      <td>4.066950e+01</td>\n",
       "      <td>4.072299e+01</td>\n",
       "      <td>4.081563e+01</td>\n",
       "      <td>4.090346e+01</td>\n",
       "    </tr>\n",
       "    <tr>\n",
       "      <th>Longitude</th>\n",
       "      <td>1272.0</td>\n",
       "      <td>-7.391835e+01</td>\n",
       "      <td>8.057649e-02</td>\n",
       "      <td>-7.424402e+01</td>\n",
       "      <td>-7.395706e+01</td>\n",
       "      <td>-7.392057e+01</td>\n",
       "      <td>-7.387926e+01</td>\n",
       "      <td>-7.370892e+01</td>\n",
       "    </tr>\n",
       "    <tr>\n",
       "      <th>Zip</th>\n",
       "      <td>1272.0</td>\n",
       "      <td>1.081572e+04</td>\n",
       "      <td>5.295889e+02</td>\n",
       "      <td>1.000100e+04</td>\n",
       "      <td>1.045200e+04</td>\n",
       "      <td>1.120300e+04</td>\n",
       "      <td>1.123200e+04</td>\n",
       "      <td>1.169400e+04</td>\n",
       "    </tr>\n",
       "    <tr>\n",
       "      <th>...</th>\n",
       "      <td>...</td>\n",
       "      <td>...</td>\n",
       "      <td>...</td>\n",
       "      <td>...</td>\n",
       "      <td>...</td>\n",
       "      <td>...</td>\n",
       "      <td>...</td>\n",
       "      <td>...</td>\n",
       "    </tr>\n",
       "    <tr>\n",
       "      <th>Grade 8 Math 4s - Asian or Pacific Islander</th>\n",
       "      <td>1272.0</td>\n",
       "      <td>1.984277e+00</td>\n",
       "      <td>1.284133e+01</td>\n",
       "      <td>0.000000e+00</td>\n",
       "      <td>0.000000e+00</td>\n",
       "      <td>0.000000e+00</td>\n",
       "      <td>0.000000e+00</td>\n",
       "      <td>2.460000e+02</td>\n",
       "    </tr>\n",
       "    <tr>\n",
       "      <th>Grade 8 Math 4s - White</th>\n",
       "      <td>1272.0</td>\n",
       "      <td>9.709119e-01</td>\n",
       "      <td>6.880223e+00</td>\n",
       "      <td>0.000000e+00</td>\n",
       "      <td>0.000000e+00</td>\n",
       "      <td>0.000000e+00</td>\n",
       "      <td>0.000000e+00</td>\n",
       "      <td>1.260000e+02</td>\n",
       "    </tr>\n",
       "    <tr>\n",
       "      <th>Grade 8 Math 4s - Multiracial</th>\n",
       "      <td>1272.0</td>\n",
       "      <td>2.358491e-03</td>\n",
       "      <td>8.411582e-02</td>\n",
       "      <td>0.000000e+00</td>\n",
       "      <td>0.000000e+00</td>\n",
       "      <td>0.000000e+00</td>\n",
       "      <td>0.000000e+00</td>\n",
       "      <td>3.000000e+00</td>\n",
       "    </tr>\n",
       "    <tr>\n",
       "      <th>Grade 8 Math 4s - Limited English Proficient</th>\n",
       "      <td>1272.0</td>\n",
       "      <td>1.595912e-01</td>\n",
       "      <td>1.321195e+00</td>\n",
       "      <td>0.000000e+00</td>\n",
       "      <td>0.000000e+00</td>\n",
       "      <td>0.000000e+00</td>\n",
       "      <td>0.000000e+00</td>\n",
       "      <td>3.300000e+01</td>\n",
       "    </tr>\n",
       "    <tr>\n",
       "      <th>Grade 8 Math 4s - Economically Disadvantaged</th>\n",
       "      <td>1272.0</td>\n",
       "      <td>2.992138e+00</td>\n",
       "      <td>1.269412e+01</td>\n",
       "      <td>0.000000e+00</td>\n",
       "      <td>0.000000e+00</td>\n",
       "      <td>0.000000e+00</td>\n",
       "      <td>0.000000e+00</td>\n",
       "      <td>1.960000e+02</td>\n",
       "    </tr>\n",
       "  </tbody>\n",
       "</table>\n",
       "<p>128 rows × 8 columns</p>\n",
       "</div>"
      ],
      "text/plain": [
       "                                               count          mean  \\\n",
       "SED Code                                      1272.0  3.286698e+11   \n",
       "District                                      1272.0  1.613522e+01   \n",
       "Latitude                                      1272.0  4.073454e+01   \n",
       "Longitude                                     1272.0 -7.391835e+01   \n",
       "Zip                                           1272.0  1.081572e+04   \n",
       "...                                              ...           ...   \n",
       "Grade 8 Math 4s - Asian or Pacific Islander   1272.0  1.984277e+00   \n",
       "Grade 8 Math 4s - White                       1272.0  9.709119e-01   \n",
       "Grade 8 Math 4s - Multiracial                 1272.0  2.358491e-03   \n",
       "Grade 8 Math 4s - Limited English Proficient  1272.0  1.595912e-01   \n",
       "Grade 8 Math 4s - Economically Disadvantaged  1272.0  2.992138e+00   \n",
       "\n",
       "                                                       std           min  \\\n",
       "SED Code                                      1.222022e+10  3.075000e+11   \n",
       "District                                      9.245270e+00  1.000000e+00   \n",
       "Latitude                                      8.660234e-02  4.050780e+01   \n",
       "Longitude                                     8.057649e-02 -7.424402e+01   \n",
       "Zip                                           5.295889e+02  1.000100e+04   \n",
       "...                                                    ...           ...   \n",
       "Grade 8 Math 4s - Asian or Pacific Islander   1.284133e+01  0.000000e+00   \n",
       "Grade 8 Math 4s - White                       6.880223e+00  0.000000e+00   \n",
       "Grade 8 Math 4s - Multiracial                 8.411582e-02  0.000000e+00   \n",
       "Grade 8 Math 4s - Limited English Proficient  1.321195e+00  0.000000e+00   \n",
       "Grade 8 Math 4s - Economically Disadvantaged  1.269412e+01  0.000000e+00   \n",
       "\n",
       "                                                       25%           50%  \\\n",
       "SED Code                                      3.208752e+11  3.315004e+11   \n",
       "District                                      9.000000e+00  1.500000e+01   \n",
       "Latitude                                      4.066950e+01  4.072299e+01   \n",
       "Longitude                                    -7.395706e+01 -7.392057e+01   \n",
       "Zip                                           1.045200e+04  1.120300e+04   \n",
       "...                                                    ...           ...   \n",
       "Grade 8 Math 4s - Asian or Pacific Islander   0.000000e+00  0.000000e+00   \n",
       "Grade 8 Math 4s - White                       0.000000e+00  0.000000e+00   \n",
       "Grade 8 Math 4s - Multiracial                 0.000000e+00  0.000000e+00   \n",
       "Grade 8 Math 4s - Limited English Proficient  0.000000e+00  0.000000e+00   \n",
       "Grade 8 Math 4s - Economically Disadvantaged  0.000000e+00  0.000000e+00   \n",
       "\n",
       "                                                       75%           max  \n",
       "SED Code                                      3.424000e+11  3.531009e+11  \n",
       "District                                      2.400000e+01  3.200000e+01  \n",
       "Latitude                                      4.081563e+01  4.090346e+01  \n",
       "Longitude                                    -7.387926e+01 -7.370892e+01  \n",
       "Zip                                           1.123200e+04  1.169400e+04  \n",
       "...                                                    ...           ...  \n",
       "Grade 8 Math 4s - Asian or Pacific Islander   0.000000e+00  2.460000e+02  \n",
       "Grade 8 Math 4s - White                       0.000000e+00  1.260000e+02  \n",
       "Grade 8 Math 4s - Multiracial                 0.000000e+00  3.000000e+00  \n",
       "Grade 8 Math 4s - Limited English Proficient  0.000000e+00  3.300000e+01  \n",
       "Grade 8 Math 4s - Economically Disadvantaged  0.000000e+00  1.960000e+02  \n",
       "\n",
       "[128 rows x 8 columns]"
      ]
     },
     "execution_count": 9,
     "metadata": {},
     "output_type": "execute_result"
    }
   ],
   "source": [
    "df_explorer.describe().T"
   ]
  },
  {
   "cell_type": "markdown",
   "metadata": {},
   "source": [
    "We can tell that there are 161 variables in the 2016 School Explorer data set with 1,272 rows of data consisting of physical descriptors and descriptive statistics information for all of the schools."
   ]
  },
  {
   "cell_type": "code",
   "execution_count": 10,
   "metadata": {},
   "outputs": [
    {
     "data": {
      "text/plain": [
       "Index(['feeder_school_dbn', 'feeder_school_name',\n",
       "       'count_of_students_in_hs_admissions', 'count_of_testers',\n",
       "       'count_of_offers'],\n",
       "      dtype='object')"
      ]
     },
     "execution_count": 10,
     "metadata": {},
     "output_type": "execute_result"
    }
   ],
   "source": [
    "df_offers.columns"
   ]
  },
  {
   "cell_type": "code",
   "execution_count": 11,
   "metadata": {},
   "outputs": [
    {
     "data": {
      "text/plain": [
       "(594, 5)"
      ]
     },
     "execution_count": 11,
     "metadata": {},
     "output_type": "execute_result"
    }
   ],
   "source": [
    "df_offers.shape"
   ]
  },
  {
   "cell_type": "code",
   "execution_count": 12,
   "metadata": {},
   "outputs": [
    {
     "name": "stdout",
     "output_type": "stream",
     "text": [
      "<class 'pandas.core.frame.DataFrame'>\n",
      "RangeIndex: 594 entries, 0 to 593\n",
      "Data columns (total 5 columns):\n",
      " #   Column                              Non-Null Count  Dtype  \n",
      "---  ------                              --------------  -----  \n",
      " 0   feeder_school_dbn                   594 non-null    object \n",
      " 1   feeder_school_name                  594 non-null    object \n",
      " 2   count_of_students_in_hs_admissions  593 non-null    float64\n",
      " 3   count_of_testers                    594 non-null    object \n",
      " 4   count_of_offers                     594 non-null    object \n",
      "dtypes: float64(1), object(4)\n",
      "memory usage: 23.3+ KB\n"
     ]
    }
   ],
   "source": [
    "df_offers.info()"
   ]
  },
  {
   "cell_type": "markdown",
   "metadata": {},
   "source": [
    "The 2017-2018 SHSAT Admissions Test Offers By Sending School has 5 variables with 594 rows of data consisting of names and descriptive statistics for all of the schools. This makes sense because not all schools send students to the SHSAT."
   ]
  },
  {
   "cell_type": "markdown",
   "metadata": {},
   "source": [
    "**Initial Data Cleaning**\n",
    "\n",
    "Let's determine the null values and then appropriately address what to do with them."
   ]
  },
  {
   "cell_type": "code",
   "execution_count": 13,
   "metadata": {},
   "outputs": [
    {
     "data": {
      "text/html": [
       "<div>\n",
       "<style scoped>\n",
       "    .dataframe tbody tr th:only-of-type {\n",
       "        vertical-align: middle;\n",
       "    }\n",
       "\n",
       "    .dataframe tbody tr th {\n",
       "        vertical-align: top;\n",
       "    }\n",
       "\n",
       "    .dataframe thead th {\n",
       "        text-align: right;\n",
       "    }\n",
       "</style>\n",
       "<table border=\"1\" class=\"dataframe\">\n",
       "  <thead>\n",
       "    <tr style=\"text-align: right;\">\n",
       "      <th></th>\n",
       "      <th>Percent</th>\n",
       "    </tr>\n",
       "  </thead>\n",
       "  <tbody>\n",
       "    <tr>\n",
       "      <th>Other Location Code in LCGMS</th>\n",
       "      <td>0.999214</td>\n",
       "    </tr>\n",
       "    <tr>\n",
       "      <th>Adjusted Grade</th>\n",
       "      <td>0.998428</td>\n",
       "    </tr>\n",
       "    <tr>\n",
       "      <th>New?</th>\n",
       "      <td>0.978774</td>\n",
       "    </tr>\n",
       "    <tr>\n",
       "      <th>School Income Estimate</th>\n",
       "      <td>0.311321</td>\n",
       "    </tr>\n",
       "    <tr>\n",
       "      <th>Student Achievement Rating</th>\n",
       "      <td>0.067610</td>\n",
       "    </tr>\n",
       "    <tr>\n",
       "      <th>Supportive Environment Rating</th>\n",
       "      <td>0.062893</td>\n",
       "    </tr>\n",
       "    <tr>\n",
       "      <th>Collaborative Teachers Rating</th>\n",
       "      <td>0.059748</td>\n",
       "    </tr>\n",
       "    <tr>\n",
       "      <th>Rigorous Instruction Rating</th>\n",
       "      <td>0.059748</td>\n",
       "    </tr>\n",
       "    <tr>\n",
       "      <th>Trust Rating</th>\n",
       "      <td>0.057390</td>\n",
       "    </tr>\n",
       "    <tr>\n",
       "      <th>Strong Family-Community Ties Rating</th>\n",
       "      <td>0.057390</td>\n",
       "    </tr>\n",
       "    <tr>\n",
       "      <th>Effective School Leadership Rating</th>\n",
       "      <td>0.057390</td>\n",
       "    </tr>\n",
       "    <tr>\n",
       "      <th>Average Math Proficiency</th>\n",
       "      <td>0.043239</td>\n",
       "    </tr>\n",
       "    <tr>\n",
       "      <th>Average ELA Proficiency</th>\n",
       "      <td>0.043239</td>\n",
       "    </tr>\n",
       "    <tr>\n",
       "      <th>Strong Family-Community Ties %</th>\n",
       "      <td>0.019654</td>\n",
       "    </tr>\n",
       "    <tr>\n",
       "      <th>Student Attendance Rate</th>\n",
       "      <td>0.019654</td>\n",
       "    </tr>\n",
       "    <tr>\n",
       "      <th>Trust %</th>\n",
       "      <td>0.019654</td>\n",
       "    </tr>\n",
       "    <tr>\n",
       "      <th>Effective School Leadership %</th>\n",
       "      <td>0.019654</td>\n",
       "    </tr>\n",
       "    <tr>\n",
       "      <th>Economic Need Index</th>\n",
       "      <td>0.019654</td>\n",
       "    </tr>\n",
       "    <tr>\n",
       "      <th>Supportive Environment %</th>\n",
       "      <td>0.019654</td>\n",
       "    </tr>\n",
       "    <tr>\n",
       "      <th>Collaborative Teachers %</th>\n",
       "      <td>0.019654</td>\n",
       "    </tr>\n",
       "    <tr>\n",
       "      <th>Rigorous Instruction %</th>\n",
       "      <td>0.019654</td>\n",
       "    </tr>\n",
       "    <tr>\n",
       "      <th>Percent of Students Chronically Absent</th>\n",
       "      <td>0.019654</td>\n",
       "    </tr>\n",
       "  </tbody>\n",
       "</table>\n",
       "</div>"
      ],
      "text/plain": [
       "                                         Percent\n",
       "Other Location Code in LCGMS            0.999214\n",
       "Adjusted Grade                          0.998428\n",
       "New?                                    0.978774\n",
       "School Income Estimate                  0.311321\n",
       "Student Achievement Rating              0.067610\n",
       "Supportive Environment Rating           0.062893\n",
       "Collaborative Teachers Rating           0.059748\n",
       "Rigorous Instruction Rating             0.059748\n",
       "Trust Rating                            0.057390\n",
       "Strong Family-Community Ties Rating     0.057390\n",
       "Effective School Leadership Rating      0.057390\n",
       "Average Math Proficiency                0.043239\n",
       "Average ELA Proficiency                 0.043239\n",
       "Strong Family-Community Ties %          0.019654\n",
       "Student Attendance Rate                 0.019654\n",
       "Trust %                                 0.019654\n",
       "Effective School Leadership %           0.019654\n",
       "Economic Need Index                     0.019654\n",
       "Supportive Environment %                0.019654\n",
       "Collaborative Teachers %                0.019654\n",
       "Rigorous Instruction %                  0.019654\n",
       "Percent of Students Chronically Absent  0.019654"
      ]
     },
     "execution_count": 13,
     "metadata": {},
     "output_type": "execute_result"
    }
   ],
   "source": [
    "nas=pd.DataFrame(df_explorer.isnull().sum().sort_values(ascending=False)/len(df_explorer),columns = ['Percent'])\n",
    "pos = nas['Percent'] > 0\n",
    "nas[pos]"
   ]
  },
  {
   "cell_type": "markdown",
   "metadata": {},
   "source": [
    "We can see that the *explorer* data set has three columns almost entirely of null values. These can be filled with an appropriate value for the data type of those columns."
   ]
  },
  {
   "cell_type": "code",
   "execution_count": 14,
   "metadata": {},
   "outputs": [
    {
     "data": {
      "text/html": [
       "<div>\n",
       "<style scoped>\n",
       "    .dataframe tbody tr th:only-of-type {\n",
       "        vertical-align: middle;\n",
       "    }\n",
       "\n",
       "    .dataframe tbody tr th {\n",
       "        vertical-align: top;\n",
       "    }\n",
       "\n",
       "    .dataframe thead th {\n",
       "        text-align: right;\n",
       "    }\n",
       "</style>\n",
       "<table border=\"1\" class=\"dataframe\">\n",
       "  <thead>\n",
       "    <tr style=\"text-align: right;\">\n",
       "      <th></th>\n",
       "      <th>Percent</th>\n",
       "    </tr>\n",
       "  </thead>\n",
       "  <tbody>\n",
       "    <tr>\n",
       "      <th>count_of_students_in_hs_admissions</th>\n",
       "      <td>0.001684</td>\n",
       "    </tr>\n",
       "  </tbody>\n",
       "</table>\n",
       "</div>"
      ],
      "text/plain": [
       "                                     Percent\n",
       "count_of_students_in_hs_admissions  0.001684"
      ]
     },
     "execution_count": 14,
     "metadata": {},
     "output_type": "execute_result"
    }
   ],
   "source": [
    "nas=pd.DataFrame(df_offers.isnull().sum().sort_values(ascending=False)/len(df_offers),columns = ['Percent'])\n",
    "pos = nas['Percent'] > 0\n",
    "nas[pos]"
   ]
  },
  {
   "cell_type": "markdown",
   "metadata": {},
   "source": [
    "The *offers* data set is pretty clean and doesn't need to have null values addressed."
   ]
  },
  {
   "cell_type": "code",
   "execution_count": 15,
   "metadata": {},
   "outputs": [
    {
     "name": "stdout",
     "output_type": "stream",
     "text": [
      "count          1\n",
      "unique         1\n",
      "top       75k372\n",
      "freq           1\n",
      "Name: Other Location Code in LCGMS, dtype: object\n",
      "count     2\n",
      "unique    1\n",
      "top       x\n",
      "freq      2\n",
      "Name: Adjusted Grade, dtype: object\n"
     ]
    },
    {
     "data": {
      "text/plain": [
       "count     27\n",
       "unique     1\n",
       "top        x\n",
       "freq      27\n",
       "Name: New?, dtype: object"
      ]
     },
     "execution_count": 15,
     "metadata": {},
     "output_type": "execute_result"
    }
   ],
   "source": [
    "#determine existing values of high-NaN columns identified above, for 2016 School Explorer dataframe\n",
    "print(df_explorer['Other Location Code in LCGMS'].describe())\n",
    "print(df_explorer['Adjusted Grade'].describe())\n",
    "df_explorer['New?'].describe()"
   ]
  },
  {
   "cell_type": "code",
   "execution_count": 5,
   "metadata": {},
   "outputs": [],
   "source": [
    "#replacing the null values with 'n' for no/ne\n",
    "df_explorer['Other Location Code in LCGMS'].fillna('n', inplace=True)\n",
    "df_explorer['Adjusted Grade'].fillna('n', inplace = True)\n",
    "df_explorer['New?'].fillna('n', inplace=True)"
   ]
  },
  {
   "cell_type": "markdown",
   "metadata": {},
   "source": [
    "The school income estimate column, which has more than 30% of its values equal to null, seems to not be a numeric data type."
   ]
  },
  {
   "cell_type": "code",
   "execution_count": 6,
   "metadata": {},
   "outputs": [
    {
     "data": {
      "text/plain": [
       "count             876\n",
       "unique            876\n",
       "top       $36,588.31 \n",
       "freq                1\n",
       "Name: School Income Estimate, dtype: object"
      ]
     },
     "execution_count": 6,
     "metadata": {},
     "output_type": "execute_result"
    }
   ],
   "source": [
    "df_explorer['School Income Estimate'].describe()"
   ]
  },
  {
   "cell_type": "code",
   "execution_count": 7,
   "metadata": {},
   "outputs": [],
   "source": [
    "df_explorer['School Income Estimate Numeric'] = df_explorer['School Income Estimate'].str.replace('$','').str.replace(',','').astype(float)"
   ]
  },
  {
   "cell_type": "code",
   "execution_count": 8,
   "metadata": {},
   "outputs": [
    {
     "data": {
      "text/plain": [
       "0"
      ]
     },
     "execution_count": 8,
     "metadata": {},
     "output_type": "execute_result"
    }
   ],
   "source": [
    "df_explorer['School Income Estimate Numeric'].fillna(0, inplace=True)\n",
    "df_explorer['School Income Estimate Numeric'].isnull().sum()"
   ]
  },
  {
   "cell_type": "markdown",
   "metadata": {},
   "source": [
    "Nice!"
   ]
  },
  {
   "cell_type": "markdown",
   "metadata": {},
   "source": [
    "### Exploratory Data Analysis ###\n",
    "\n",
    "Building data profile tables and plots, exploring data relationships, and identifying & creating features."
   ]
  },
  {
   "cell_type": "code",
   "execution_count": 20,
   "metadata": {},
   "outputs": [
    {
     "name": "stdout",
     "output_type": "stream",
     "text": [
      "<class 'pandas.core.frame.DataFrame'>\n",
      "RangeIndex: 1272 entries, 0 to 1271\n",
      "Data columns (total 20 columns):\n",
      " #   Column                                              Non-Null Count  Dtype\n",
      "---  ------                                              --------------  -----\n",
      " 0   Grade 7 ELA - All Students Tested                   1272 non-null   int64\n",
      " 1   Grade 7 ELA 4s - All Students                       1272 non-null   int64\n",
      " 2   Grade 7 ELA 4s - American Indian or Alaska Native   1272 non-null   int64\n",
      " 3   Grade 7 ELA 4s - Black or African American          1272 non-null   int64\n",
      " 4   Grade 7 ELA 4s - Hispanic or Latino                 1272 non-null   int64\n",
      " 5   Grade 7 ELA 4s - Asian or Pacific Islander          1272 non-null   int64\n",
      " 6   Grade 7 ELA 4s - White                              1272 non-null   int64\n",
      " 7   Grade 7 ELA 4s - Multiracial                        1272 non-null   int64\n",
      " 8   Grade 7 ELA 4s - Limited English Proficient         1272 non-null   int64\n",
      " 9   Grade 7 ELA 4s - Economically Disadvantaged         1272 non-null   int64\n",
      " 10  Grade 7 Math - All Students Tested                  1272 non-null   int64\n",
      " 11  Grade 7 Math 4s - All Students                      1272 non-null   int64\n",
      " 12  Grade 7 Math 4s - American Indian or Alaska Native  1272 non-null   int64\n",
      " 13  Grade 7 Math 4s - Black or African American         1272 non-null   int64\n",
      " 14  Grade 7 Math 4s - Hispanic or Latino                1272 non-null   int64\n",
      " 15  Grade 7 Math 4s - Asian or Pacific Islander         1272 non-null   int64\n",
      " 16  Grade 7 Math 4s - White                             1272 non-null   int64\n",
      " 17  Grade 7 Math 4s - Multiracial                       1272 non-null   int64\n",
      " 18  Grade 7 Math 4s - Limited English Proficient        1272 non-null   int64\n",
      " 19  Grade 7 Math 4s - Economically Disadvantaged        1272 non-null   int64\n",
      "dtypes: int64(20)\n",
      "memory usage: 198.9 KB\n"
     ]
    }
   ],
   "source": [
    "df_explorer.iloc[:,121:141].info()"
   ]
  },
  {
   "cell_type": "markdown",
   "metadata": {},
   "source": [
    "Given the test-takers in the 2017-2018's df_offers are a year away from taking the test in 2016's df_explorer, I'll focus on the 7th graders.\n",
    "\n",
    "df_explorer has 20 variables with information 7th graders. This data is broken up into two kinds of information, ELA (English Language Arts) & Math. Scoring on these tests top out at 4, with 1 representing the worst score.\n",
    "\n",
    "Therefore, the best students are in the '4s' columns shown above. \n",
    "\n",
    "Summary of columns:\n",
    "\n",
    "- All students tested\n",
    "- All students with 4 scores\n",
    "- American Indian or Alaska Native with 4 scores\n",
    "- Black or African American students with 4 scores\n",
    "- Hispanic or Latino students with 4 scores\n",
    "- Asian or Pacific Islander students with 4 scores\n",
    "- White students with 4 scores\n",
    "- Multiracial students with 4 scores\n",
    "- Limited English Proficient students with 4 scores\n",
    "- Economically Disadvantaged with 4 scores\n"
   ]
  },
  {
   "cell_type": "code",
   "execution_count": 138,
   "metadata": {},
   "outputs": [],
   "source": [
    "#subsetting df_explorer data for just the 7th graders\n",
    "df_ela = df_explorer.iloc[:,121:131]\n",
    "df_math = df_explorer.iloc[:,131:141]"
   ]
  },
  {
   "cell_type": "code",
   "execution_count": 139,
   "metadata": {},
   "outputs": [
    {
     "name": "stdout",
     "output_type": "stream",
     "text": [
      "69053 8320 10888\n"
     ]
    }
   ],
   "source": [
    "ethnicity = ['Black','Latino','Asian','White']\n",
    "df_ela_totals = pd.DataFrame({'ethnicity':ethnicity,'totals':[i for i in df_ela.iloc[:,3:7].sum()]})\n",
    "df_math_totals = pd.DataFrame({'ethnicity':ethnicity,'totals':[i for i in df_math.iloc[:,3:7].sum()]})\n",
    "print(df_math.sum()[0], df_ela.sum()[1], df_math.sum()[1])"
   ]
  },
  {
   "cell_type": "markdown",
   "metadata": {},
   "source": [
    "In 2016, the total number of 7th graders in NYC Middle Schools was **69,053**. Of those, **8,320** had ELA scores of 4, and **10,888** had Math scores of 4."
   ]
  },
  {
   "cell_type": "code",
   "execution_count": 140,
   "metadata": {},
   "outputs": [
    {
     "data": {
      "image/png": "[encoded data removed]",
      "text/plain": [
       "<Figure size 1080x504 with 1 Axes>"
      ]
     },
     "metadata": {
      "needs_background": "light"
     },
     "output_type": "display_data"
    }
   ],
   "source": [
    "_ = plt.figure(figsize = (15,7))\n",
    "_ = plt.title('Number of 4 Scores by Ethnicity')\n",
    "w = 0.45\n",
    "ela_bar = plt.bar(np.arange(len(df_ela_totals)), df_ela_totals.totals, width = w, align = 'center', label = 'ELA')\n",
    "math_bar = plt.bar(np.arange(len(df_ela_totals))+w, df_math_totals.totals, width = w, align = 'center', label = 'Math')\n",
    "_ = plt.xticks(np.arange(4)+0.225, ethnicity)\n",
    "_ = plt.legend(handles=[ela_bar,math_bar], loc = 'upper right')"
   ]
  },
  {
   "cell_type": "markdown",
   "metadata": {},
   "source": [
    "Using the assumption that those ethnicities that have the majority of the 4 scores will, in turn, perform well on the aptitude test for the specialized high school, we can see why Black & Latino may receive less admittance offers based on these limited criteria."
   ]
  },
  {
   "cell_type": "code",
   "execution_count": 9,
   "metadata": {},
   "outputs": [
    {
     "name": "stdout",
     "output_type": "stream",
     "text": [
      "<class 'pandas.core.frame.DataFrame'>\n",
      "RangeIndex: 594 entries, 0 to 593\n",
      "Data columns (total 5 columns):\n",
      " #   Column                              Non-Null Count  Dtype  \n",
      "---  ------                              --------------  -----  \n",
      " 0   feeder_school_dbn                   594 non-null    object \n",
      " 1   feeder_school_name                  594 non-null    object \n",
      " 2   count_of_students_in_hs_admissions  593 non-null    float64\n",
      " 3   count_of_testers                    594 non-null    object \n",
      " 4   count_of_offers                     594 non-null    object \n",
      "dtypes: float64(1), object(4)\n",
      "memory usage: 23.3+ KB\n"
     ]
    }
   ],
   "source": [
    "df_offers.info()"
   ]
  },
  {
   "cell_type": "markdown",
   "metadata": {},
   "source": [
    "df_offers contains all middle school 8th graders who took the SHSAT. \n",
    "\n",
    "In both the count_of_testers and count_of_offers columns, a school with less that 5 students, the value reads as '0-5' 8th graders."
   ]
  },
  {
   "cell_type": "code",
   "execution_count": 19,
   "metadata": {},
   "outputs": [],
   "source": [
    "testers = pd.to_numeric(df_offers.count_of_testers[df_offers.count_of_testers != '0-5'])\n",
    "offers = pd.to_numeric(df_offers.count_of_offers[df_offers.count_of_offers != '0-5'])"
   ]
  },
  {
   "cell_type": "code",
   "execution_count": 28,
   "metadata": {},
   "outputs": [
    {
     "name": "stdout",
     "output_type": "stream",
     "text": [
      "537 25349 121 4018\n",
      "57 473\n"
     ]
    }
   ],
   "source": [
    "print(len(testers),testers.sum(), len(offers), offers.sum())\n",
    "print(len(df_offers.count_of_testers[df_offers.count_of_testers == '0-5']), \n",
    "      len(df_offers.count_of_offers[df_offers.count_of_offers == '0-5']))"
   ]
  },
  {
   "cell_type": "markdown",
   "metadata": {},
   "source": [
    "**537** NYC Middle Schools sent at least 6 students to SHSAT for a total of **25,349** 8th graders taking the test. **57** schools send 0-5 8th graders to take the test. **121** NYC Middle Schools saw at least 6 of their students receive offers, for a total of **4,018** 8th graders having received an offer. **473** schools saw 0-5 of their 8th graders receive an offer."
   ]
  },
  {
   "cell_type": "markdown",
   "metadata": {},
   "source": [
    "**Merging Datasets**\n",
    "\n",
    "Using the DBN & Location Code I'll merge df_explorer data for 7th graders to the df_offers information for SHSAT testers."
   ]
  },
  {
   "cell_type": "code",
   "execution_count": 35,
   "metadata": {},
   "outputs": [],
   "source": [
    "df_exp_subset = df_explorer.loc[:,['Location Code', 'District', 'Latitude', 'Longitude', 'Percent ELL', \n",
    "                                       'Percent Asian','Percent Black', 'Percent Hispanic', \n",
    "                                   'Percent Black / Hispanic','Percent White', 'Average ELA Proficiency', \n",
    "                                   'Average Math Proficiency', 'Grade 7 ELA - All Students Tested', \n",
    "                                   'Grade 7 ELA 4s - All Students', 'Grade 7 Math - All Students Tested', \n",
    "                                   'Grade 7 Math 4s - All Students']]"
   ]
  },
  {
   "cell_type": "code",
   "execution_count": 166,
   "metadata": {},
   "outputs": [],
   "source": [
    "df_main = df_offers.merge(df_exp_subset, left_on = 'feeder_school_dbn', right_on = 'Location Code')"
   ]
  },
  {
   "cell_type": "code",
   "execution_count": 167,
   "metadata": {},
   "outputs": [
    {
     "name": "stdout",
     "output_type": "stream",
     "text": [
      "<class 'pandas.core.frame.DataFrame'>\n",
      "Int64Index: 591 entries, 0 to 590\n",
      "Data columns (total 21 columns):\n",
      " #   Column                              Non-Null Count  Dtype  \n",
      "---  ------                              --------------  -----  \n",
      " 0   feeder_school_dbn                   591 non-null    object \n",
      " 1   feeder_school_name                  591 non-null    object \n",
      " 2   count_of_students_in_hs_admissions  591 non-null    float64\n",
      " 3   count_of_testers                    591 non-null    object \n",
      " 4   count_of_offers                     591 non-null    object \n",
      " 5   Location Code                       591 non-null    object \n",
      " 6   District                            591 non-null    int64  \n",
      " 7   Latitude                            591 non-null    float64\n",
      " 8   Longitude                           591 non-null    float64\n",
      " 9   Percent ELL                         591 non-null    object \n",
      " 10  Percent Asian                       591 non-null    object \n",
      " 11  Percent Black                       591 non-null    object \n",
      " 12  Percent Hispanic                    591 non-null    object \n",
      " 13  Percent Black / Hispanic            591 non-null    object \n",
      " 14  Percent White                       591 non-null    object \n",
      " 15  Average ELA Proficiency             585 non-null    float64\n",
      " 16  Average Math Proficiency            585 non-null    float64\n",
      " 17  Grade 7 ELA - All Students Tested   591 non-null    int64  \n",
      " 18  Grade 7 ELA 4s - All Students       591 non-null    int64  \n",
      " 19  Grade 7 Math - All Students Tested  591 non-null    int64  \n",
      " 20  Grade 7 Math 4s - All Students      591 non-null    int64  \n",
      "dtypes: float64(5), int64(5), object(11)\n",
      "memory usage: 101.6+ KB\n"
     ]
    }
   ],
   "source": [
    "df_main.info()"
   ]
  },
  {
   "cell_type": "markdown",
   "metadata": {},
   "source": [
    "Looks like **2** of the schools in df_offers aren't in the df_explorer data.\n",
    "\n",
    "I'll also add a few more columns:\n",
    "\n",
    "- “Percentage of SHSAT takers receiving an offer” (Numbers of SHSAT takers/Number of Offers by school)\n",
    "- “The total number of Black/Hispanic students in Grade 8” (Number of 8th graders * Percent Black / Hispanic)\n",
    "- “Percentage of students who did the SHSAT” (Number of SHSAT takers/Number of 8th graders)\n",
    "- “Average Mark” (the average of Average ELA Proficiency and Average Math Proficiency)\n",
    "- “Percent of students with Level 4 ELA in Grade 7 (Grade 7 ELA 4s - All Students/Grade 7 ELA - All Students Tested)\n",
    "- “Percent of students with Level 4 Math in Grade 7 (Grade 7 Math 4s - All Students/Grade 7 Math - All Students Tested)\n",
    "- “Percent of students with Level 4 in Grade 7” (average of 4 percentages ELA and Math in Grade 7)\n",
    "- “Average number of Level 4 students” (Grade 7 ELA 4s - All Students + Grade 7 Math 4s - All Students)/2"
   ]
  },
  {
   "cell_type": "code",
   "execution_count": 187,
   "metadata": {},
   "outputs": [],
   "source": [
    "#filling NaN\n",
    "df_main['Average ELA Proficiency'].fillna(0, inplace = True)\n",
    "df_main['Average Math Proficiency'].fillna(0, inplace = True)\n",
    "\n",
    "#modifying data types\n",
    "df_main['NumTestTakers'] = pd.to_numeric(df_main.count_of_testers, errors = 'coerce')\n",
    "df_main['NumSpecializedOffers'] = pd.to_numeric(df_main.count_of_offers, errors = 'coerce')\n",
    "df_main.NumTestTakers.fillna(0, inplace = True)\n",
    "df_main.NumSpecializedOffers.fillna(0, inplace = True)\n",
    "df_main['PctBlackOrHispanic'] = df_main['Percent Black / Hispanic'].str.extract('(\\d+)').astype(int)\n",
    "\n",
    "#Adding calculatedcolumns\n",
    "df_main['PctOffersByStudent'] = round((df_main.NumSpecializedOffers / df_main.NumTestTakers) * 100, 0)\n",
    "df_main.PctOffersByStudent.fillna(0, inplace = True)\n",
    "\n",
    "df_main['TotalGrade8BlHisp'] = round((df_main.count_of_students_in_hs_admissions * df_main.PctBlackOrHispanic) \n",
    "                                     / 100,0)\n",
    "df_main['PerDidSHSAT'] = round((df_main.NumTestTakers / df_main.count_of_students_in_hs_admissions) * 100, 0)\n",
    "df_main['AvgMark'] = round((df_main['Average ELA Proficiency'] + df_main['Average Math Proficiency'])/2, 2)\n",
    "df_main['PctScore4ELA'] = round((df_main['Grade 7 ELA 4s - All Students'] / \n",
    "                                 df_main['Grade 7 ELA - All Students Tested']) * 100, 0)\n",
    "df_main['PctScore4Math'] = round((df_main['Grade 7 Math 4s - All Students'] / \n",
    "                                   df_main['Grade 7 Math - All Students Tested']) * 100, 0)\n",
    "df_main['AvgScore4'] = round((df_main['Grade 7 ELA 4s - All Students'] + \n",
    "                             df_main['Grade 7 Math 4s - All Students']) / 2, 1)\n",
    "df_main['PctScore4'] = round((df_main.PctScore4ELA + df_main.PctScore4Math) / 2, 0)"
   ]
  },
  {
   "cell_type": "code",
   "execution_count": 190,
   "metadata": {},
   "outputs": [],
   "source": [
    "#Generating a Profile Report as a general overview of the data.\n",
    "profile = ProfileReport(df_main, title = 'Capstone Two Profile Report')\n",
    "profile.to_file(\"../reports/CapstoneTwo.html\")\n",
    "profile.to_notebook_iframe()\n",
    "\n",
    "#Generating an explorative report\n",
    "profile_exp = ProfileReport(df_main, title='Capstone Two Explorative Profiling Report', explorative=True)\n",
    "profile_exp.to_file(\"../reports/CapstoneTwo_Explorative.html\")"
   ]
  },
  {
   "cell_type": "markdown",
   "metadata": {},
   "source": [
    "**Schools with highest number of test takers**\n",
    "\n",
    "What we're seeing in this next plot is that those schools that send the most 8th graders to the SHSAT, have less of their school, percentage-wise, represented by Black or Latino students.\n",
    "\n",
    "Interestingly, there is a high percentage of Black/Hispanic students (The William W. Niles school (82%), and The Eugenio Maria De Hostos school(78%), near the middle of the pack and the lowest, respectively."
   ]
  },
  {
   "cell_type": "code",
   "execution_count": 191,
   "metadata": {},
   "outputs": [
    {
     "data": {
      "image/png": "[encoded data removed]",
      "text/plain": [
       "<Figure size 1080x1800 with 1 Axes>"
      ]
     },
     "metadata": {
      "needs_background": "light"
     },
     "output_type": "display_data"
    }
   ],
   "source": [
    "most_testtakers = df_main.nlargest(20, 'NumTestTakers', keep = 'all')\n",
    "_ = plt.figure(figsize = (15,25))\n",
    "_ = plt.title('Percent Black or Hispanic of Schools With The Most Test Takers')\n",
    "h = 0.3\n",
    "testers = plt.barh(np.arange(len(most_testtakers))-h, most_testtakers.NumTestTakers, height = h, \n",
    "                   label = 'Number of Testers')\n",
    "eight_graders = plt.barh(np.arange(len(most_testtakers)), most_testtakers.count_of_students_in_hs_admissions, \n",
    "                         height = h, label = 'Number of 8th Graders')\n",
    "pct_blk_hisp = plt.barh(np.arange(len(most_testakers))+h, most_testtakers.PctBlackOrHispanic, height = h, \n",
    "                        label = 'Percent Black or Latino')\n",
    "plt.yticks(np.arange(len(most_testtakers)), most_testtakers.feeder_school_name)\n",
    "_ = plt.legend(handles=[testers,eight_graders,pct_blk_hisp], loc = 'upper right')"
   ]
  },
  {
   "cell_type": "markdown",
   "metadata": {},
   "source": [
    "**Schools with the least number of test takers**\n",
    "\n",
    "Nearly all of the schools with the least number of test takers in 2017 (55) had low average marks (average of AvgELA and AvgMath). \n",
    "\n",
    "Also, most schools had a high percentage of Black or Hispanic students."
   ]
  },
  {
   "cell_type": "code",
   "execution_count": 205,
   "metadata": {},
   "outputs": [
    {
     "data": {
      "image/png": "[encoded data removed]",
      "text/plain": [
       "<Figure size 1080x2880 with 1 Axes>"
      ]
     },
     "metadata": {
      "needs_background": "light"
     },
     "output_type": "display_data"
    }
   ],
   "source": [
    "least_testtakers = df_main[df_main.NumTestTakers == 0]\n",
    "_ = plt.figure(figsize = (15,40))\n",
    "_ = plt.title('Percent Black or Hispanic of Schools With The Least Test Takers')\n",
    "h = 0.3\n",
    "eighth_graders = plt.barh(np.arange(len(least_testtakers))-h, least_testtakers.count_of_students_in_hs_admissions, \n",
    "                         height = h, label = 'Number of 8th Graders')\n",
    "pct_blk_hisp = plt.barh(np.arange(len(least_testtakers)), least_testtakers.PctBlackOrHispanic, height = h, \n",
    "                        label = 'Percent Black or Latino')\n",
    "average_mark = plt.barh(np.arange(len(least_testtakers))+h, least_testtakers.AvgMark, height = h, label = 'Average Mark')\n",
    "plt.yticks(np.arange(len(least_testtakers)), least_testtakers.feeder_school_name)\n",
    "_ = plt.legend(handles=[eighth_graders,pct_blk_hisp,average_mark], loc = 'upper right')"
   ]
  },
  {
   "cell_type": "code",
   "execution_count": 196,
   "metadata": {},
   "outputs": [
    {
     "data": {
      "text/plain": [
       "55"
      ]
     },
     "execution_count": 196,
     "metadata": {},
     "output_type": "execute_result"
    }
   ],
   "source": []
  },
  {
   "cell_type": "code",
   "execution_count": null,
   "metadata": {},
   "outputs": [],
   "source": []
  }
 ],
 "metadata": {
  "kernelspec": {
   "display_name": "Python 3",
   "language": "python",
   "name": "python3"
  },
  "language_info": {
   "codemirror_mode": {
    "name": "ipython",
    "version": 3
   },
   "file_extension": ".py",
   "mimetype": "text/x-python",
   "name": "python",
   "nbconvert_exporter": "python",
   "pygments_lexer": "ipython3",
   "version": "3.8.5"
  }
 },
 "nbformat": 4,
 "nbformat_minor": 4
}
